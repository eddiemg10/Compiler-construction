{
  "nbformat": 4,
  "nbformat_minor": 0,
  "metadata": {
    "colab": {
      "provenance": []
    },
    "kernelspec": {
      "name": "python3",
      "display_name": "Python 3"
    },
    "language_info": {
      "name": "python"
    }
  },
  "cells": [
    {
      "cell_type": "markdown",
      "source": [
        "b. Write a program to implement operator precedence parsing."
      ],
      "metadata": {
        "id": "YTw0H6pG5a9W"
      }
    },
    {
      "cell_type": "code",
      "source": [
        "def get_operator_precedence(operator):\n",
        "    if operator == '-':\n",
        "      return 1\n",
        "    elif operator == '+':\n",
        "      return 2\n",
        "    elif operator == '*':\n",
        "      return 3\n",
        "    elif operator == '/':\n",
        "      return 4\n",
        "    else:\n",
        "      return 0  #lowest precedence for non-operators, higher value = higher precedence"
      ],
      "metadata": {
        "id": "Q8nhkC965ail"
      },
      "execution_count": 58,
      "outputs": []
    },
    {
      "cell_type": "code",
      "source": [
        "def apply_operator(val1, op, val2):\n",
        "    if op == '+':\n",
        "        return val1 + val2\n",
        "    elif op == '-':\n",
        "        return val1 - val2\n",
        "    elif op == '*':\n",
        "        return val1 * val2\n",
        "    elif op == '/':\n",
        "        if val2 != 0:\n",
        "            return val1 / val2\n",
        "        else:\n",
        "            print(\"Error: Division by zero.\")\n",
        "            return None\n",
        "    else:\n",
        "        print(f\"Error: Invalid operator '{op}'.\")\n",
        "        return None"
      ],
      "metadata": {
        "id": "Kv8A7uTQE9y4"
      },
      "execution_count": 59,
      "outputs": []
    },
    {
      "cell_type": "markdown",
      "source": [
        "It checks whether if an expression is valid; If it is valid:\n",
        "* Has no operator at the beginning\n",
        "* Has an operator between the operands\n",
        "* If operators used are : (*, /, +, - , %)\n",
        "* Has no operator at the end\n"
      ],
      "metadata": {
        "id": "8WXRPYqOJpnE"
      }
    },
    {
      "cell_type": "code",
      "source": [
        "def operator_precedence_parser(expression):\n",
        "    values = []  # Stack to hold values\n",
        "    operators = []  # Stack to hold operators\n",
        "    operator_precedences = []  # Stack to hold operator precedences\n",
        "\n",
        "    # Expecting an operand at the beginning\n",
        "    expect_operand = True\n",
        "\n",
        "    i = 0\n",
        "\n",
        "    while i < len(expression):\n",
        "        if expression[i].isspace():\n",
        "            i += 1\n",
        "            continue  # Skip spaces\n",
        "        elif expression[i].isdigit():\n",
        "            number = 0\n",
        "            while i < len(expression) and expression[i].isdigit():\n",
        "                number = number * 10 + int(expression[i])\n",
        "                i += 1\n",
        "            if not expect_operand:\n",
        "                print(\"Error: Expected operator between operands.\")\n",
        "                return None, None\n",
        "            values.append(number)\n",
        "            expect_operand = False  # Now we expect an operator\n",
        "        elif expression[i] in \"+-*/%\":\n",
        "            op = expression[i]\n",
        "            while operators and get_operator_precedence(operators[-1]) >= get_operator_precedence(op):\n",
        "                b = values.pop()\n",
        "                a = values.pop()\n",
        "                old_op = operators.pop()\n",
        "                values.append(apply_operator(a, old_op, b))\n",
        "                #operator_precedences.append(get_operator_precedence(old_op))\n",
        "            operators.append(op)\n",
        "            operator_precedences.append(get_operator_precedence(op))  # Capture the precedence of the current operator\n",
        "            expect_operand = True  # Now we expect an operand\n",
        "            i += 1\n",
        "        else:\n",
        "            print(f\"Error: Invalid character '{expression[i]}' in the expression.\")\n",
        "            return None, None\n",
        "\n",
        "    if expect_operand:\n",
        "        print(\"Error: Expected operand at the end.\")\n",
        "        return None, None\n",
        "\n",
        "    while operators:\n",
        "        b = values.pop()\n",
        "        a = values.pop()\n",
        "        op = operators.pop()\n",
        "        values.append(apply_operator(a, op, b))\n",
        "        # Remove this line as it's not needed: operator_precedences.append(get_operator_precedence(op))\n",
        "\n",
        "    if len(values) == 1 and not operators:\n",
        "        return values[0], operator_precedences\n",
        "    else:\n",
        "        print(\"Error: Invalid expression.\")\n",
        "        return None, None\n"
      ],
      "metadata": {
        "id": "ErmRGK-PFBRK"
      },
      "execution_count": 60,
      "outputs": []
    },
    {
      "cell_type": "code",
      "source": [
        "expression = \"2+2-1*2/4\"\n",
        "result, operator_precedences = operator_precedence_parser(expression)\n",
        "if result is not None:\n",
        "    print(f\"Result: {result}\")\n",
        "    print(\"Operator Precedences:\", operator_precedences)\n",
        "else:\n",
        "    print(\"Invalid expression. Please check for errors.\")"
      ],
      "metadata": {
        "colab": {
          "base_uri": "https://localhost:8080/"
        },
        "id": "fAruquiWFPYo",
        "outputId": "d9226ae4-da22-4a10-f53e-3d32956c518b"
      },
      "execution_count": 63,
      "outputs": [
        {
          "output_type": "stream",
          "name": "stdout",
          "text": [
            "Result: 3.5\n",
            "Operator Precedences: [2, 1, 3, 4]\n"
          ]
        }
      ]
    }
  ]
}