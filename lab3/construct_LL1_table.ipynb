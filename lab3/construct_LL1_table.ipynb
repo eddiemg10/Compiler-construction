{
  "cells": [
    {
      "cell_type": "markdown",
      "metadata": {
        "id": "lgj12aGo5drD"
      },
      "source": [
        "## Defining the grammar\n"
      ]
    },
    {
      "cell_type": "code",
      "execution_count": 1,
      "metadata": {
        "id": "1is3w6BgfFQQ"
      },
      "outputs": [],
      "source": [
        "# Define the production rules of the grammar\n",
        "grammar = {\n",
        "    \"E\" : [\"TĒ\"],\n",
        "    \"Ē\" : [\"+TĒ\", \"\"],\n",
        "    \"T\" : [\"FŤ\"],\n",
        "    \"Ť\": [\"*FŤ\", \"\"],\n",
        "    \"F\" : [\"(E)\", \"i\"]\n",
        "}\n",
        "\n",
        "terminals = {'+', '*', 'i', '(', ')'}\n",
        "non_terminals = ['E', 'Ē', 'T', 'Ť', 'F']\n",
        "start_symbol = 'E'"
      ]
    },
    {
      "cell_type": "markdown",
      "metadata": {
        "id": "kgn4WMKE5ppp"
      },
      "source": [
        "## Get the First() of a Non-terminal\n",
        "\n",
        "The `getFirst()` method takes in a non-terminal symbol and a set, populated the provided set with the corresponding First() terminals and returns the populated set\n",
        "\n",
        "**Note🔴**: Empty strings have been programatically represented by `\"\"`"
      ]
    },
    {
      "cell_type": "code",
      "execution_count": 2,
      "metadata": {
        "id": "SprLSaqk5uGn"
      },
      "outputs": [],
      "source": [
        "# Get the First() of a non terminal and store the result in first\n",
        "def getFirst(non_terminal, first):\n",
        "    if non_terminal not in grammar:\n",
        "      raise Exception(\"No production rule for this non terminal found\")\n",
        "\n",
        "\n",
        "    productions = grammar[non_terminal]\n",
        "    for production in productions:\n",
        "      if production == \"\":\n",
        "        first.add(\"\")\n",
        "        continue\n",
        "      if production[0] in terminals:\n",
        "        first.add(production[0])\n",
        "        continue\n",
        "      else:\n",
        "        # If the first symbol of a production is a non terminal, recursively find its first()\n",
        "        getFirst(production[0], first)\n",
        "\n",
        "    return first\n",
        "\n"
      ]
    },
    {
      "cell_type": "markdown",
      "metadata": {
        "id": "PDlGj4b5fhjb"
      },
      "source": [
        "### Populate the First() table\n",
        "Getting First symbols for all non terminals"
      ]
    },
    {
      "cell_type": "code",
      "execution_count": 3,
      "metadata": {
        "colab": {
          "base_uri": "https://localhost:8080/"
        },
        "id": "6juNO3DL5zUH",
        "outputId": "f01f6a45-a746-4708-e101-eb4f49a153a7"
      },
      "outputs": [
        {
          "name": "stdout",
          "output_type": "stream",
          "text": [
            "{'E': {'(', 'i'}, 'Ē': {'', '+'}, 'T': {'(', 'i'}, 'Ť': {'', '*'}, 'F': {'(', 'i'}}\n"
          ]
        }
      ],
      "source": [
        "first = {}\n",
        "for non_terminal in non_terminals:\n",
        "  fst = set()\n",
        "  getFirst(non_terminal, fst)\n",
        "  first[non_terminal] = fst\n",
        "\n",
        "print(first)"
      ]
    },
    {
      "cell_type": "markdown",
      "metadata": {
        "id": "tm5y8aD553dh"
      },
      "source": [
        "## Get the Follow() of a Non-Terminal\n",
        "\n",
        "#### Computing rules\n",
        "```\n",
        "1) FOLLOW(S) = { $ }   // where S is the starting Non-Terminal\n",
        "\n",
        "2) If A -> pBq is a production, where p, B and q are any grammar symbols,\n",
        "   then everything in FIRST(q)  except Є is in FOLLOW(B).\n",
        "\n",
        "3) If A->pB is a production, then everything in FOLLOW(A) is in FOLLOW(B).\n",
        "\n",
        "4) If A->pBq is a production and FIRST(q) contains Є,\n",
        "   then FOLLOW(B) contains { FIRST(q) – Є } U FOLLOW(A)\n",
        "   ```\n",
        "\n",
        "   Rules from [GeeksforGeeks](https://www.geeksforgeeks.org/follow-set-in-syntax-analysis/)"
      ]
    },
    {
      "cell_type": "code",
      "execution_count": 4,
      "metadata": {
        "id": "wndL9-F-58QJ"
      },
      "outputs": [],
      "source": [
        "follow = {}\n",
        "for nt in non_terminals:\n",
        "  follow[nt] = set()\n",
        "\n",
        "def get_follow(non_terminal):\n",
        "  '''\n",
        "  2 cases:\n",
        "  1) NT is at the end -> Follow += Follow(LHS)\n",
        "  2) NT is not at the end:\n",
        "    2.1) next symbol is NT -> Follow += First(next symbol):\n",
        "      2.1.1 First(next symbol contains \"\") -> Follow += Follow(LHS)\n",
        "    2.2) next symbol is T -> Follow += T\n",
        "  '''\n",
        "  if non_terminal == start_symbol:\n",
        "    follow[non_terminal].add(\"$\")\n",
        "  for lhs in grammar:\n",
        "    for production in grammar[lhs]:\n",
        "      for i, char in enumerate(production):\n",
        "        if char == non_terminal:\n",
        "          if i == len(production) - 1:                              # Means that the NT is at the end of the production -> Add Follow of LHS\n",
        "            follow[non_terminal].update(follow[lhs])                # Add follow of LHS to follow of NT\n",
        "          else:\n",
        "            for next_char in production[i+1:]:\n",
        "              if next_char in terminals:\n",
        "                follow[non_terminal].add(next_char)                 # If next character is a terminal, add the terminal itself\n",
        "                break\n",
        "\n",
        "              follow[non_terminal].update(first[next_char]-{\"\"})    # Add First(next_char) to current NT Follow, excluding the empty string\n",
        "              if '' not in first[next_char]:\n",
        "                break                                               # If there's no empty string in First(next_char) end\n",
        "              else:\n",
        "                follow[non_terminal].update(follow[lhs])            # Add follow of LHS to follow of NT if First(next_char) contains empty string\n",
        "\n"
      ]
    },
    {
      "cell_type": "markdown",
      "metadata": {
        "id": "XhTz2QyEf0G1"
      },
      "source": [
        "### Populate the Follow() table"
      ]
    },
    {
      "cell_type": "code",
      "execution_count": 5,
      "metadata": {
        "colab": {
          "base_uri": "https://localhost:8080/"
        },
        "id": "OO628oo9fzUN",
        "outputId": "73ee0c5c-def3-46d6-b5af-4cd50df61b60"
      },
      "outputs": [
        {
          "name": "stdout",
          "output_type": "stream",
          "text": [
            "{'E': {'$', ')'}, 'Ē': {'$', ')'}, 'T': {'$', ')', '+'}, 'Ť': {'$', ')', '+'}, 'F': {'*', '$', ')', '+'}}\n"
          ]
        }
      ],
      "source": [
        "for nt in non_terminals:\n",
        "  get_follow(nt)\n",
        "\n",
        "print(follow)"
      ]
    },
    {
      "cell_type": "markdown",
      "metadata": {
        "id": "gCpcaQZef5c6"
      },
      "source": [
        "## Displaying First and Follow Table"
      ]
    },
    {
      "cell_type": "code",
      "execution_count": 7,
      "metadata": {
        "colab": {
          "base_uri": "https://localhost:8080/"
        },
        "id": "wCc4iWKPmo7y",
        "outputId": "c19b1979-921f-4fab-8d00-89be30b410a9"
      },
      "outputs": [
        {
          "name": "stdout",
          "output_type": "stream",
          "text": [
            "╒════════════════╤════════════╤══════════════════════╕\n",
            "│ Non-terminal   │ First      │ Follow               │\n",
            "╞════════════════╪════════════╪══════════════════════╡\n",
            "│ E              │ {'(', 'i'} │ {'$', ')'}           │\n",
            "├────────────────┼────────────┼──────────────────────┤\n",
            "│ Ē              │ {'', '+'}  │ {'$', ')'}           │\n",
            "├────────────────┼────────────┼──────────────────────┤\n",
            "│ T              │ {'(', 'i'} │ {'$', ')', '+'}      │\n",
            "├────────────────┼────────────┼──────────────────────┤\n",
            "│ Ť              │ {'', '*'}  │ {'$', ')', '+'}      │\n",
            "├────────────────┼────────────┼──────────────────────┤\n",
            "│ F              │ {'(', 'i'} │ {'*', '$', ')', '+'} │\n",
            "╘════════════════╧════════════╧══════════════════════╛\n"
          ]
        }
      ],
      "source": [
        "import pandas as pd\n",
        "from tabulate import tabulate\n",
        "\n",
        "data = []\n",
        "\n",
        "for nt in non_terminals:\n",
        "  data.append(\n",
        "      {\"Non-terminal\": nt,\n",
        "       \"First\": first[nt],\n",
        "       \"Follow\": follow[nt]\n",
        "       }\n",
        "      )\n",
        "\n",
        "df = pd.DataFrame(data)\n",
        "\n",
        "# displaying the First and Follow table\n",
        "print(tabulate(df, headers = 'keys', tablefmt = 'fancy_grid', showindex=False))"
      ]
    },
    {
      "cell_type": "markdown",
      "metadata": {
        "id": "7fBu5aC_rglX"
      },
      "source": [
        "## Building LL(1) table"
      ]
    },
    {
      "cell_type": "code",
      "execution_count": 8,
      "metadata": {
        "colab": {
          "base_uri": "https://localhost:8080/"
        },
        "id": "93f4fse2qx5y",
        "outputId": "cc856bee-a00e-4a3a-df65-b04e802088d9"
      },
      "outputs": [
        {
          "name": "stdout",
          "output_type": "stream",
          "text": [
            "{'E': {'(': {'E': 'TĒ'}, 'i': {'E': 'TĒ'}}, 'Ē': {'+': {'Ē': '+TĒ'}, '$': {'Ē': ''}, ')': {'Ē': ''}}, 'T': {'(': {'T': 'FŤ'}, 'i': {'T': 'FŤ'}}, 'Ť': {'*': {'Ť': '*FŤ'}, '$': {'Ť': ''}, ')': {'Ť': ''}, '+': {'Ť': ''}}, 'F': {'(': {'F': '(E)'}, 'i': {'F': 'i'}}}\n"
          ]
        }
      ],
      "source": [
        "ll1 = {}\n",
        "for non_terminal in non_terminals:\n",
        "  ll1.update({non_terminal: {}})\n",
        "\n",
        "grammar = {\n",
        "    \"E\" : [\"TĒ\"],\n",
        "    \"Ē\" : [\"+TĒ\", \"\"],\n",
        "    \"T\" : [\"FŤ\"],\n",
        "    \"Ť\": [\"*FŤ\", \"\"],\n",
        "    \"F\" : [\"(E)\", \"i\"]\n",
        "}\n",
        "\n",
        "for lhs in grammar:\n",
        "  for production in grammar[lhs]:\n",
        "    if production == \"\":\n",
        "      # Place production in follow of LHS\n",
        "      table_entries = {}\n",
        "      for terminal in follow[lhs]:\n",
        "        table_entries[terminal] = {lhs: production}\n",
        "      ll1[lhs] |= table_entries\n",
        "      ll1.update()\n",
        "    else:\n",
        "      #Place production in first of RHS\n",
        "      rhs_first_symbol = production[0]\n",
        "      if rhs_first_symbol in terminals:                   # If first symbol of RHS is a terminal, place production on that terminal\n",
        "        ll1[lhs][rhs_first_symbol] = {lhs: production}\n",
        "      else:\n",
        "        table_entries = {}\n",
        "        for terminal in first[lhs]:                       # If first symbol of RHS is a non-terminal, place production on the First() of that non-terminal\n",
        "          table_entries[terminal] = {lhs: production}\n",
        "        ll1[lhs] |= table_entries\n",
        "\n",
        "print(ll1)"
      ]
    },
    {
      "cell_type": "markdown",
      "metadata": {
        "id": "c0rKwYmb3U28"
      },
      "source": [
        "### Displaying Final LL(1) table"
      ]
    },
    {
      "cell_type": "code",
      "execution_count": 9,
      "metadata": {
        "colab": {
          "base_uri": "https://localhost:8080/"
        },
        "id": "0iC5_Z223ZoD",
        "outputId": "8371274f-5b6e-4ed7-ea2d-55cbb671e0c0"
      },
      "outputs": [
        {
          "name": "stdout",
          "output_type": "stream",
          "text": [
            "╒════════════════╤══════════╤═════════╤══════════╤════════╤══════════╤════════╕\n",
            "│ Non-terminal   │ (        │ i       │ +        │ )      │ *        │ $      │\n",
            "╞════════════════╪══════════╪═════════╪══════════╪════════╪══════════╪════════╡\n",
            "│ E              │ E -> TĒ  │ E -> TĒ │          │        │          │        │\n",
            "├────────────────┼──────────┼─────────┼──────────┼────────┼──────────┼────────┤\n",
            "│ Ē              │          │         │ Ē -> +TĒ │ Ē -> ε │          │ Ē -> ε │\n",
            "├────────────────┼──────────┼─────────┼──────────┼────────┼──────────┼────────┤\n",
            "│ T              │ T -> FŤ  │ T -> FŤ │          │        │          │        │\n",
            "├────────────────┼──────────┼─────────┼──────────┼────────┼──────────┼────────┤\n",
            "│ Ť              │          │         │ Ť -> ε   │ Ť -> ε │ Ť -> *FŤ │ Ť -> ε │\n",
            "├────────────────┼──────────┼─────────┼──────────┼────────┼──────────┼────────┤\n",
            "│ F              │ F -> (E) │ F -> i  │          │        │          │        │\n",
            "╘════════════════╧══════════╧═════════╧══════════╧════════╧══════════╧════════╛\n"
          ]
        }
      ],
      "source": [
        "data = []\n",
        "\n",
        "def getProductionFromDict(production):\n",
        "  # If no production exists, return empty string\n",
        "  if production == '':\n",
        "    return ''\n",
        "  else:\n",
        "    # Production given in the form of a dictionary, therefore extract lhs anf rhs\n",
        "    lhs, rhs = next(iter( production.items() ))\n",
        "    return (f'{lhs} -> {rhs if rhs else \"ε\" }')\n",
        "\n",
        "for nt in non_terminals:\n",
        "  productions = {}\n",
        "  productions.update({'Non-terminal' : nt})\n",
        "  for t in terminals:\n",
        "    production = getProductionFromDict(ll1.get(nt).get(t, ''))\n",
        "    productions.update({t : production})\n",
        "  productions.update({'$' : getProductionFromDict(ll1.get(nt).get('$', ''))})\n",
        "\n",
        "  data.append(\n",
        "      # {\"Non-terminal\": nt},\n",
        "      productions\n",
        "      )\n",
        "\n",
        "\n",
        "df = pd.DataFrame(data)\n",
        "\n",
        "# displaying the First and Follow table\n",
        "print(tabulate(df, headers = 'keys', tablefmt = 'fancy_grid', showindex=False))"
      ]
    }
  ],
  "metadata": {
    "colab": {
      "provenance": []
    },
    "kernelspec": {
      "display_name": "Python 3",
      "name": "python3"
    },
    "language_info": {
      "codemirror_mode": {
        "name": "ipython",
        "version": 3
      },
      "file_extension": ".py",
      "mimetype": "text/x-python",
      "name": "python",
      "nbconvert_exporter": "python",
      "pygments_lexer": "ipython3",
      "version": "3.10.6"
    }
  },
  "nbformat": 4,
  "nbformat_minor": 0
}
