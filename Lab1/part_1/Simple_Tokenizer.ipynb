{
  "nbformat": 4,
  "nbformat_minor": 0,
  "metadata": {
    "colab": {
      "provenance": []
    },
    "kernelspec": {
      "name": "python3",
      "display_name": "Python 3"
    },
    "language_info": {
      "name": "python"
    }
  },
  "cells": [
    {
      "cell_type": "code",
      "execution_count": 1,
      "metadata": {
        "id": "M-4cObXUayuf",
        "colab": {
          "base_uri": "https://localhost:8080/"
        },
        "outputId": "34852b57-9f3a-42de-e7b5-54e6173cf656"
      },
      "outputs": [
        {
          "output_type": "stream",
          "name": "stdout",
          "text": [
            "Enter string to tokenize: He is a smart student\n",
            "He\n",
            "is\n",
            "a\n",
            "smart\n",
            "student\n"
          ]
        }
      ],
      "source": [
        "\n",
        "def tokenize(string: str)->list[str]:\n",
        "  tokens = string.split()\n",
        "  return tokens\n",
        "\n",
        "string = input(\"Enter string to tokenize: \")\n",
        "tokens = tokenize(string)\n",
        "for token in tokens:\n",
        "  print(token)"
      ]
    }
  ]
}