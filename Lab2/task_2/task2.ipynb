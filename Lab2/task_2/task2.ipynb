{
  "nbformat": 4,
  "nbformat_minor": 0,
  "metadata": {
    "colab": {
      "provenance": []
    },
    "kernelspec": {
      "name": "python3",
      "display_name": "Python 3"
    },
    "language_info": {
      "name": "python"
    }
  },
  "cells": [
    {
      "cell_type": "code",
      "execution_count": 7,
      "metadata": {
        "colab": {
          "base_uri": "https://localhost:8080/"
        },
        "id": "m7DfcJA5rJlB",
        "outputId": "bec97a73-2ccc-406f-ea85-9e842d06d93a"
      },
      "outputs": [
        {
          "output_type": "stream",
          "name": "stdout",
          "text": [
            "Enter your Python code:\n",
            "age=10\n",
            "Identifier: age\n",
            "Operator: =\n",
            "Integer: 10\n",
            "valid identifier\n"
          ]
        }
      ],
      "source": [
        "import re\n",
        "\n",
        "# Regular expressions for different token types\n",
        "identifier_pattern = r'[a-zA-Z_]\\w*' #matches any string that starts with a letter or underscore and is followed by zero or more letters, underscores, or digits\n",
        "operator_pattern = r'[+\\-*/%<>&|=^~]' # matches any of the operators +, -, *, /, %, <, >, &, |, =, ^, ~\n",
        "integer_pattern = r'\\b\\d+\\b' # matches any string of one or more digits\n",
        "symbol_pattern = r'[,;:.(){}<>$]' # matches any of the symbols , ; : . ( ) { } < > $\n",
        "string_pattern = r'(\\'[^\\']*\\'|\\\"[^\\\"]*\\')' # matches any string that starts and ends with a single quote or double quote\n",
        "\n",
        "\n",
        "reserved_words = set(['false', 'none', 'true', 'and', 'as', 'assert', 'async', 'await', 'break', 'class',\n",
        "                        'continue', 'def', 'del', 'elif', 'else', 'except', 'finally', 'for', 'from',\n",
        "                        'global', 'if', 'import', 'in', 'is', 'lambda', 'nonlocal', 'not', 'or', 'pass',\n",
        "                        'raise', 'return', 'try', 'while', 'with', 'yield'])\n",
        "def tokenize(s):\n",
        "    words = re.split(\"_|[0-9]\",s)\n",
        "    return ([i for i in words])\n",
        "\n",
        "\"\"\"Check whether it meets initial rules and whether it has a reserved word\"\"\"\n",
        "\n",
        "def validateIdentifier(var):\n",
        "  str(var)\n",
        "  valid = False\n",
        "  if(bool(re.search('^[a-zA-Z_]+[0-9_]*$',var))==True):\n",
        "    tokens = tokenize(var)\n",
        "    for token in tokens:\n",
        "      if(token != \"\" and token in reserved_words):\n",
        "        valid = False\n",
        "      else:\n",
        "         valid = True\n",
        "\n",
        "  if(valid):\n",
        "    print(\"valid identifier\")\n",
        "  else:\n",
        "    print(\"invalid identifier\")\n",
        "\n",
        "# Take user input for Python code\n",
        "python_code = input(\"Enter your Python code:\\n\")\n",
        "\n",
        "# Find tokens in the Python code\n",
        "tokens = re.findall(rf'({identifier_pattern}|{operator_pattern}|{integer_pattern}|{symbol_pattern}|{string_pattern})', python_code)\n",
        "\n",
        "# Identify token types\n",
        "for token in tokens:\n",
        "    string_token = token[0]\n",
        "    # Convert token to string if it's a tuple\n",
        "    if isinstance(token, tuple):\n",
        "        token = ''.join(token)\n",
        "\n",
        "    if re.match(identifier_pattern, token):\n",
        "        if token in reserved_words:\n",
        "            print(f'Keyword: {token}')\n",
        "        else:\n",
        "            print(f'Identifier: {token}')\n",
        "    elif re.match(operator_pattern, token):\n",
        "        print(f'Operator: {token}')\n",
        "    elif re.match(integer_pattern, token):\n",
        "        print(f'Integer: {token}')\n",
        "    elif re.match(symbol_pattern, token):\n",
        "        print(f'Symbol: {token}')\n",
        "    elif re.match(string_pattern, token):\n",
        "        print(f'String: {string_token}')\n",
        "\n",
        "validateIdentifier('Identifier')"
      ]
    }
  ]
}