{
 "cells": [
  {
   "cell_type": "code",
   "execution_count": 61,
   "metadata": {},
   "outputs": [
    {
     "name": "stdout",
     "output_type": "stream",
     "text": [
      "1: [comment] \"\"\"\n",
      "2: [comment] The program below solves the FizzBuzz problem\n",
      "3: [comment] FizzBuzz is a common coding interview question\n",
      "4: [comment] \"\"\"\n",
      "5: [non-comment] \n",
      "6: [non-comment] \n",
      "7: [comment] # Loop from 1 to 100\n",
      "8: [non-comment] for i in range(1, 101):\n",
      "9: [comment] # Check if the number is divisible by both 3 and 5\n",
      "10: [non-comment] if i % 3 == 0 and i % 5 == 0:\n",
      "11: [non-comment] print(f'FizzBuzz: {i}')  # Print FizzBuzz if number is divisible by both 3 and 5\n",
      "12: [comment] # Check if the number is divisible by 3\n",
      "13: [non-comment] elif i % 3 == 0:\n",
      "14: [non-comment] print(f'Fizz: {i}')  # Print Fizz if number is only divisible by 3\n",
      "15: [comment] # Check if the number is divisible by 5\n",
      "16: [non-comment] elif i % 5 == 0:\n",
      "17: [non-comment] print(f'Buzz: {i}')  # Print Buzz if number is only divisible by 5\n",
      "18: [non-comment] else:\n",
      "19: [non-comment] print(i)\n",
      "20: [comment] # End of the FizzBuzz program\n"
     ]
    }
   ],
   "source": [
    "file = open(\"script.py\", \"r\")\n",
    "\n",
    "singleQuoteMultiLine = False\n",
    "doubleQuoteMultiLine = False\n",
    "comment_lines = []\n",
    "\n",
    "for i, line in enumerate(file):\n",
    "    # First, strip any beginning or trailing whitespaces\n",
    "    line = line.strip()\n",
    "\n",
    "    # If triple quotes are encountered, mark all lines after as comments until closing quotes are encountered\n",
    "    if line.startswith(\"'''\") or line.endswith(\"'''\"):\n",
    "        singleQuoteMultiLine = not singleQuoteMultiLine\n",
    "    elif line.startswith('\"\"\"') or line.endswith('\"\"\"'):\n",
    "        doubleQuoteMultiLine = not doubleQuoteMultiLine\n",
    "    elif line.startswith(\"#\") or singleQuoteMultiLine or doubleQuoteMultiLine:\n",
    "        classification = \"comment\"\n",
    "    else:\n",
    "        classification = \"non-comment\"\n",
    "\n",
    "    print(f'{i+1}: [{classification}] {line}')\n",
    "\n"
   ]
  },
  {
   "cell_type": "markdown",
   "metadata": {},
   "source": [
    "# Explanation\n",
    "\n",
    "## Logic used\n",
    "\n",
    "This program identifies whether lines in a given python script file are valid python comments or not.\n",
    "\n",
    "For a line to be a valid comment, it has to meet one of these conditions:\n",
    "1. **Single line comment:** A single line comment has to begin with a `#`\n",
    "2. **Multi-line comment:** Although python doesn't support multi-line comments, a common convention among python programmers is to enclose comments within triple quotes `'''` or `\"\"\"` as described \n",
    "<a href=\"https://www.w3schools.com/python/python_comments.asp#:~:text=Since%20Python%20will%20ignore%20string%20literals%20that%20are%20not%20assigned%20to%20a%20variable%2C%20you%20can%20add%20a%20multiline%20string%20(triple%20quotes)%20in%20your%20code%2C%20and%20place%20your%20comment%20inside%20it%3A\">here.</a>\n",
    "\n",
    "### Handling single line comments\n",
    "Handling these is relatively straight forward, as all we have to do is check whether a line of code begins with the `#` symbol. If this is true, we classify it as being a comment\n",
    "\n",
    "<br>\n",
    "\n",
    "### Handling multi-line comments\n",
    "These require a bit more work due to the nested structure of multi-line comments. For this, we implement a 'switch' mechanism with the flags `singleQuoteMultiLine` and `doubleQuoteMultiLine` which enable us to check for triple quotes and marks all lines after as comments, until encountering a closing set of triple quotes.\n",
    "\n",
    "<br>\n",
    "\n",
    "---\n",
    "\n",
    "<br>\n",
    "\n",
    "## Significance of Lexical and Syntax analysis\n",
    "- Concepts from lexical analysis are important in this solution to be able to match the patterns of the symbols used to identify comments, i.e. `#`* | `'''`* | `\"\"\"`*\n",
    "- Syntax analysis was important in understanding the nested nature of multiline comments. This solution makes the assumption that the provided python lines of code are syntactically correct. While it can handle cases where multi-line comments are enclosed with either triple single quotes (''') or triple double quotes (\"\"\"), it does not perform full syntax analysis and may not handle unexpected or incorrect usage of triple quotes within the code, such as random occurrences of ''' in the middle of the code that could unintentionally comment out subsequent code\n",
    "\n"
   ]
  }
 ],
 "metadata": {
  "kernelspec": {
   "display_name": "env",
   "language": "python",
   "name": "python3"
  },
  "language_info": {
   "name": "python",
   "version": "3.10.6"
  }
 },
 "nbformat": 4,
 "nbformat_minor": 2
}
